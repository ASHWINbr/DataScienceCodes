{
  "cells": [
    {
      "cell_type": "code",
      "execution_count": null,
      "metadata": {
        "id": "qsidCgCp6_nu"
      },
      "outputs": [],
      "source": [
        "import pandas as pd\n",
        "from sklearn.model_selection import train_test_split\n",
        "from sklearn.preprocessing import MultiLabelBinarizer\n",
        "from sklearn.feature_extraction.text import TfidfVectorizer\n",
        "import tensorflow\n",
        "from tensorflow.keras.models import Sequential\n",
        "from tensorflow.keras.layers import Embedding, LSTM, Dense, SpatialDropout1D, Bidirectional\n",
        "from tensorflow.keras.preprocessing.sequence import\n",
        "from sklearn.multioutput import MultiOutputClassifier\n",
        "from sklearn.metrics import classification_report\n",
        "import numpy as np\n",
        "from sklearn.metrics import accuracy_score\n"
      ]
    },
    {
      "cell_type": "code",
      "execution_count": null,
      "metadata": {
        "colab": {
          "base_uri": "https://localhost:8080/"
        },
        "id": "OcUna8zM7_P_",
        "outputId": "79c0cc55-d143-483b-b983-6c97c3f0808d"
      },
      "outputs": [
        {
          "output_type": "stream",
          "name": "stdout",
          "text": [
            "Mounted at /content/drive\n",
            "Archive:  /content/drive/MyDrive/copy-of-artificial-neural-networks-competition.zip\n",
            "  inflating: sample_submission.csv   \n",
            "  inflating: test.csv                \n",
            "  inflating: train_mpst.csv          \n",
            "  inflating: val.csv                 \n"
          ]
        }
      ],
      "source": [
        "from google.colab import drive\n",
        "drive.mount('/content/drive')\n",
        "! unzip /content/drive/MyDrive/copy-of-artificial-neural-networks-competition.zip"
      ]
    },
    {
      "cell_type": "code",
      "execution_count": null,
      "metadata": {
        "id": "58UULfZe-ZyZ",
        "colab": {
          "base_uri": "https://localhost:8080/"
        },
        "outputId": "38eac6d1-8d30-4537-ecbf-fd25abb856c4"
      },
      "outputs": [
        {
          "output_type": "stream",
          "name": "stderr",
          "text": [
            "<ipython-input-22-ea389371f131>:2: FutureWarning: The error_bad_lines argument has been deprecated and will be removed in a future version. Use on_bad_lines in the future.\n",
            "\n",
            "\n",
            "  test = pd.read_csv('/content/drive/MyDrive/RA_TEMP/test.csv', error_bad_lines=False, warn_bad_lines=True)\n",
            "<ipython-input-22-ea389371f131>:2: FutureWarning: The warn_bad_lines argument has been deprecated and will be removed in a future version. Use on_bad_lines in the future.\n",
            "\n",
            "\n",
            "  test = pd.read_csv('/content/drive/MyDrive/RA_TEMP/test.csv', error_bad_lines=False, warn_bad_lines=True)\n"
          ]
        }
      ],
      "source": [
        "train = pd.read_csv(\"train_mpst.csv\")\n",
        "test = pd.read_csv('/content/drive/MyDrive/RA_TEMP/test.csv', error_bad_lines=False, warn_bad_lines=True)\n",
        "val = pd.read_csv(\"val.csv\")\n",
        "#print(test.head())\n",
        "ID = test['imdb_id']\n",
        "ID =pd.DataFrame(ID)\n",
        "ID.to_csv('/content/drive/MyDrive/RA_TEMP/test1.csv', index=False)"
      ]
    },
    {
      "cell_type": "code",
      "source": [
        "X = train['plot_synopsis']\n",
        "y = train.drop(['title', 'plot_synopsis','imdb_id','synopsis_source'], axis=1)\n",
        "print(len(y.columns))\n",
        "X_pred = test['plot_synopsis']"
      ],
      "metadata": {
        "id": "9Mv5_fov9ie5",
        "colab": {
          "base_uri": "https://localhost:8080/"
        },
        "outputId": "518b921b-92b5-4ff8-f59c-2229f879af1f"
      },
      "execution_count": null,
      "outputs": [
        {
          "output_type": "stream",
          "name": "stdout",
          "text": [
            "71\n"
          ]
        }
      ]
    },
    {
      "cell_type": "code",
      "source": [
        "\n",
        "mlb = MultiLabelBinarizer()\n",
        "y_binary = mlb.fit_transform(y.values)\n",
        "\n",
        "X_train, X_test, y_train, y_test = train_test_split(X, y, test_size=0.2, random_state=42)\n",
        "\n",
        "max_len = 200\n",
        "tfidf_vectorizer = TfidfVectorizer(stop_words='english', max_features=10000)\n",
        "X_train_tfidf = tfidf_vectorizer.fit_transform(X_train)\n",
        "X_test_tfidf = tfidf_vectorizer.transform(X_test)\n",
        "print(X_test_tfidf.head())\n",
        "X_pred_tfidf = tfidf_vectorizer.transform(X_pred)"
      ],
      "metadata": {
        "id": "pTw852bExb21"
      },
      "execution_count": null,
      "outputs": []
    },
    {
      "cell_type": "code",
      "execution_count": null,
      "metadata": {
        "id": "m0FpiSpD6juj",
        "colab": {
          "base_uri": "https://localhost:8080/"
        },
        "outputId": "d759bd59-df0c-4aa4-e89f-2075ef2f6184"
      },
      "outputs": [
        {
          "output_type": "stream",
          "name": "stdout",
          "text": [
            "Epoch 1/5\n",
            "95/95 [==============================] - 87s 870ms/step - loss: 0.2023 - accuracy: 0.1350 - val_loss: 0.1369 - val_accuracy: 0.1317\n",
            "Epoch 2/5\n",
            "95/95 [==============================] - 84s 884ms/step - loss: 0.1383 - accuracy: 0.1406 - val_loss: 0.1367 - val_accuracy: 0.1317\n",
            "Epoch 3/5\n",
            "95/95 [==============================] - 83s 869ms/step - loss: 0.1382 - accuracy: 0.1489 - val_loss: 0.1369 - val_accuracy: 0.1317\n",
            "Epoch 4/5\n",
            "95/95 [==============================] - 82s 866ms/step - loss: 0.1383 - accuracy: 0.1462 - val_loss: 0.1368 - val_accuracy: 0.1317\n",
            "Epoch 5/5\n",
            "95/95 [==============================] - 87s 921ms/step - loss: 0.1383 - accuracy: 0.1490 - val_loss: 0.1369 - val_accuracy: 0.1317\n",
            "60/60 [==============================] - 7s 119ms/step - loss: 0.1425 - accuracy: 0.1401\n",
            "Test Loss: 0.1425, Test Accuracy: 0.1401\n"
          ]
        }
      ],
      "source": [
        "# Neural network model\n",
        "model = Sequential()\n",
        "model.add(Embedding(input_dim=10000, output_dim=128, input_length=max_len))\n",
        "model.add(SpatialDropout1D(0.2))\n",
        "model.add(Bidirectional(LSTM(100)))\n",
        "model.add(Dense(y_train.shape[1], activation='sigmoid'))\n",
        "\n",
        "# Compile the model\n",
        "model.compile(loss='binary_crossentropy', optimizer='adam', metrics=['accuracy'])\n",
        "\n",
        "# Train the model\n",
        "batch_size = 64\n",
        "epochs = 5\n",
        "history = model.fit(pad_sequences(X_train_tfidf.toarray(), maxlen=max_len),\n",
        "                    y_train, batch_size=batch_size, epochs=epochs, validation_split=0.2)\n",
        "\n",
        "loss, accuracy = model.evaluate(pad_sequences(X_test_tfidf.toarray(), maxlen=max_len), y_test)\n",
        "print(f'Test Loss: {loss:.4f}, Test Accuracy: {accuracy:.4f}')"
      ]
    },
    {
      "cell_type": "code",
      "source": [
        "\n",
        "result = []\n",
        "for i in range(len(y_pred_probs)):\n",
        "  prob = np.array(y_pred_probs[i])\n",
        "  max_index = np.argmax(prob)\n",
        "  binary_result = np.zeros_like(prob)\n",
        "  binary_result[max_index] = 1\n",
        "  binary_result = binary_result.tolist()\n",
        "  result.append(binary_result)\n",
        "\n",
        "type(result[0])\n"
      ],
      "metadata": {
        "colab": {
          "base_uri": "https://localhost:8080/"
        },
        "id": "xPcOH_gyQwYx",
        "outputId": "ca63c696-b6df-4905-ea36-2db6e76a11c2"
      },
      "execution_count": null,
      "outputs": [
        {
          "output_type": "execute_result",
          "data": {
            "text/plain": [
              "list"
            ]
          },
          "metadata": {},
          "execution_count": 61
        }
      ]
    },
    {
      "cell_type": "code",
      "source": [
        "Export = pd.DataFrame(result)#, axis=1)\n",
        "Export.head()\n",
        "Export.to_csv('/content/drive/MyDrive/ANN_by_CNN.csv', index=False)"
      ],
      "metadata": {
        "id": "X5I7fNqaUNDx"
      },
      "execution_count": null,
      "outputs": []
    },
    {
      "cell_type": "code",
      "execution_count": null,
      "metadata": {
        "id": "EnG0SMUFTBT0"
      },
      "outputs": [],
      "source": [
        "from sklearn.ensemble import RandomForestClassifier"
      ]
    },
    {
      "cell_type": "code",
      "execution_count": null,
      "metadata": {
        "id": "7UQMEom1TLCS"
      },
      "outputs": [],
      "source": [
        "\n",
        "X_train, X_test, y_train, y_test = train_test_split(X, y, test_size=0.2, random_state=42)\n",
        "\n",
        "# Text preprocessing and vectorization\n",
        "tfidf_vectorizer = TfidfVectorizer(stop_words='english')\n",
        "X_train_tfidf = tfidf_vectorizer.fit_transform(X_train)\n",
        "X_test_tfidf = tfidf_vectorizer.transform(X_test)\n",
        "\n",
        "# Multi-label classification model\n",
        "classifier = MultiOutputClassifier(RandomForestClassifier(random_state=42))\n",
        "classifier.fit(X_train_tfidf, y_train)\n",
        "\n",
        "# Predictions\n",
        "y_pred = classifier.predict(X_test_tfidf)\n",
        "\n",
        "# Evaluation\n",
        "print(classification_report(y_test, y_pred, target_names=y.columns))"
      ]
    },
    {
      "cell_type": "code",
      "source": [
        "accuracy = accuracy_score(y_test, y_pred)\n",
        "print(f'Accuracy: {accuracy:.2%}')"
      ],
      "metadata": {
        "colab": {
          "base_uri": "https://localhost:8080/"
        },
        "id": "3UeXkAUKz10s",
        "outputId": "798af12d-17d3-438d-adc5-80f32e900551"
      },
      "execution_count": null,
      "outputs": [
        {
          "output_type": "stream",
          "name": "stdout",
          "text": [
            "Accuracy: 4.11%\n"
          ]
        }
      ]
    },
    {
      "cell_type": "code",
      "source": [
        "print(y_pred.shape)\n",
        "Y = pd.DataFrame(y_pred)\n",
        "Y.to_csv(\"/content/drive/MyDrive/AshwinBRANNFinalSubmission2.csv\",index=False)"
      ],
      "metadata": {
        "id": "PFTdCYiWGMq9"
      },
      "execution_count": null,
      "outputs": []
    }
  ],
  "metadata": {
    "colab": {
      "provenance": []
    },
    "kernelspec": {
      "display_name": "Python 3",
      "name": "python3"
    },
    "language_info": {
      "name": "python"
    }
  },
  "nbformat": 4,
  "nbformat_minor": 0
}